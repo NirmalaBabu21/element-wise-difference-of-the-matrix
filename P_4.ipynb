{
  "nbformat": 4,
  "nbformat_minor": 0,
  "metadata": {
    "colab": {
      "name": "P-4.ipynb",
      "provenance": []
    },
    "kernelspec": {
      "name": "python3",
      "display_name": "Python 3"
    },
    "language_info": {
      "name": "python"
    }
  },
  "cells": [
    {
      "cell_type": "markdown",
      "source": [
        "Problem Statement 4: Write a Python program that takes two integer-NumPy arrays, 𝑃 and 𝑄 of\n",
        "shape [3 ∗ 3] and perform the following task:\n",
        "Task to be performed:\n",
        "Print the element-wise difference of the matrix 𝑃 and 𝑄 (𝑃 − 𝑄)"
      ],
      "metadata": {
        "id": "aWcmYS0Ys9h-"
      }
    },
    {
      "cell_type": "code",
      "execution_count": 7,
      "metadata": {
        "colab": {
          "base_uri": "https://localhost:8080/"
        },
        "id": "Lhvl2jZIsziK",
        "outputId": "a9dffd9a-1c0b-4252-f2b9-de5c358e57d9"
      },
      "outputs": [
        {
          "output_type": "stream",
          "name": "stdout",
          "text": [
            "23 56 87 3 6 96 4 6 78\n",
            "12 34 54 7 2 54 6 2 78\n",
            "[[11 22 33]\n",
            " [-4  4 42]\n",
            " [-2  4  0]]\n"
          ]
        }
      ],
      "source": [
        "import numpy as np\n",
        "P =[]\n",
        "Q =[]\n",
        "\n",
        "P= [int(i) for i in input().split()]\n",
        "Q= [int(i) for i in input().split()]\n",
        "\n",
        "P= np.array(P).reshape(3,3)\n",
        "Q= np.array(Q).reshape(3,3)\n",
        "\n",
        "R = P -Q\n",
        "print(R)"
      ]
    }
  ]
}